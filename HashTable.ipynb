{
 "cells": [
  {
   "cell_type": "code",
   "execution_count": 1,
   "id": "ef5e7bd2",
   "metadata": {},
   "outputs": [
    {
     "data": {
      "text/plain": [
       "[['march 6', 310.0],\n",
       " ['march 7', 340.0],\n",
       " ['march 8', 380.0],\n",
       " ['march 9', 302.0],\n",
       " ['march 10', 297.0],\n",
       " ['march 11', 323.0]]"
      ]
     },
     "execution_count": 1,
     "metadata": {},
     "output_type": "execute_result"
    }
   ],
   "source": [
    "#open file on my computer and read it using jupyter then make Hash table using list\n",
    "stock_prices = []\n",
    "with open(\"D:\\\\projectspy\\\\stock_prices.csv\",\"r\") as f:\n",
    "    for line in f:\n",
    "        tokens = line.split(\",\")\n",
    "        days = tokens[0]\n",
    "        prices = float(tokens[1])\n",
    "        stock_prices.append([days,prices])\n",
    "stock_prices        \n",
    "        \n",
    "\n"
   ]
  },
  {
   "cell_type": "code",
   "execution_count": 3,
   "id": "1f14127f",
   "metadata": {},
   "outputs": [
    {
     "name": "stdout",
     "output_type": "stream",
     "text": [
      "310.0\n"
     ]
    }
   ],
   "source": [
    "#do an iteration on our list and print the corresponding value of the string\n",
    "for ele in stock_prices:\n",
    "    if ele[0] == 'march 6':\n",
    "        print(ele[1])\n",
    "    "
   ]
  },
  {
   "cell_type": "code",
   "execution_count": 18,
   "id": "5e5725e2",
   "metadata": {},
   "outputs": [
    {
     "data": {
      "text/plain": [
       "{'march 6': 310.0,\n",
       " 'march 7': 340.0,\n",
       " 'march 8': 380.0,\n",
       " 'march 9': 302.0,\n",
       " 'march 10': 297.0,\n",
       " 'march 11': 323.0}"
      ]
     },
     "execution_count": 18,
     "metadata": {},
     "output_type": "execute_result"
    }
   ],
   "source": [
    "#open file on my computer and read it using jupyter then make Hash table using dictionary\n",
    "stock_prices = {}\n",
    "with open(\"D:\\\\projectspy\\\\stock_prices.csv\",\"r\") as f:\n",
    "    for line in f:\n",
    "        tokens = line.split(\",\")\n",
    "        days = tokens[0]\n",
    "        prices = float(tokens[1])\n",
    "        stock_prices[days] = prices\n",
    "stock_prices "
   ]
  },
  {
   "cell_type": "code",
   "execution_count": 19,
   "id": "75fef306",
   "metadata": {},
   "outputs": [
    {
     "data": {
      "text/plain": [
       "302.0"
      ]
     },
     "execution_count": 19,
     "metadata": {},
     "output_type": "execute_result"
    }
   ],
   "source": [
    "#print the corresponding value of the string of our dictionary\n",
    "stock_prices['march 9']\n"
   ]
  },
  {
   "cell_type": "code",
   "execution_count": 25,
   "id": "451f1ace",
   "metadata": {},
   "outputs": [],
   "source": [
    "#Doing many operations on HashTable using 00P\n",
    "class HashTable:\n",
    "#function for initializing our class by passing size of array and init array(None) \n",
    "    def __init__(self):\n",
    "        self.MAX = 100\n",
    "        self.arr = [None for i in range(self.MAX)]\n",
    "#function for returnning the index of the key     \n",
    "    def get_hash(self,key):\n",
    "        h=0\n",
    "        for char in key:\n",
    "            h += ord(char)\n",
    "        return h % self.MAX\n",
    "#function for adding item in your array\n",
    "    def __setitem__(self,key,val):\n",
    "        h = self.get_hash(key)\n",
    "        self.arr[h] = val\n",
    "#function for returnning the item of its key    \n",
    "    def __getitem__(self,key):\n",
    "        h = self.get_hash(key)\n",
    "        return self.arr[h]\n",
    "#function for deleting the item of its key   \n",
    "    def __delitem__(self,key):\n",
    "        h = self.get_hash(key)\n",
    "        self.arr[h] = None\n",
    "#create object from class HashTable        \n",
    "t = HashTable()\n",
    "\n",
    "#Trying our operations\n",
    "t['march 6'] = 30\n",
    "t['march 7'] = 40\n",
    "t['march 8'] = 50\n",
    "t['march 9'] = 60\n",
    "\n",
    "t['march 6']\n",
    "del t['march 6']\n",
    "t.arr"
   ]
  },
  {
   "cell_type": "code",
   "execution_count": null,
   "id": "f1c3fdbe",
   "metadata": {},
   "outputs": [],
   "source": []
  }
 ],
 "metadata": {
  "kernelspec": {
   "display_name": "Python 3 (ipykernel)",
   "language": "python",
   "name": "python3"
  },
  "language_info": {
   "codemirror_mode": {
    "name": "ipython",
    "version": 3
   },
   "file_extension": ".py",
   "mimetype": "text/x-python",
   "name": "python",
   "nbconvert_exporter": "python",
   "pygments_lexer": "ipython3",
   "version": "3.7.0"
  }
 },
 "nbformat": 4,
 "nbformat_minor": 5
}
